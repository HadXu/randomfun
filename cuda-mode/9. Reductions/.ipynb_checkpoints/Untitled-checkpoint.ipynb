{
 "cells": [
  {
   "cell_type": "code",
   "execution_count": 2,
   "id": "385bd3fc-5817-4741-9ade-3d252443644c",
   "metadata": {},
   "outputs": [
    {
     "data": {
      "text/plain": [
       "<torch._C.Generator at 0x7f17e47b8ad0>"
      ]
     },
     "execution_count": 2,
     "metadata": {},
     "output_type": "execute_result"
    }
   ],
   "source": [
    "from torch.utils.cpp_extension import load_inline\n",
    "import torch\n",
    "\n",
    "cuda_begin = r'''\n",
    "#include <torch/extension.h>\n",
    "#include <stdio.h>\n",
    "#include <c10/cuda/CUDAException.h>\n",
    "\n",
    "#define CHECK_CUDA(x) TORCH_CHECK(x.device().is_cuda(), #x \" must be a CUDA tensor\")\n",
    "#define CHECK_CONTIGUOUS(x) TORCH_CHECK(x.is_contiguous(), #x \" must be contiguous\")\n",
    "#define CHECK_INPUT(x) CHECK_CUDA(x); CHECK_CONTIGUOUS(x)\n",
    "#define CUDA_ERR(ans) { gpuAssert((ans), __FILE__, __LINE__); }\n",
    "inline void gpuAssert(cudaError_t code, const char *file, int line, bool abort=true)\n",
    "{\n",
    "   if (code != cudaSuccess) \n",
    "   {\n",
    "      fprintf(stderr,\"GPUassert: %s %s %d\\n\", cudaGetErrorString(code), file, line);\n",
    "      if (abort) exit(code);\n",
    "   }\n",
    "}\n",
    "__host__ __device__ inline unsigned int cdiv(unsigned int a, unsigned int b) { return (a+b-1)/b;}\n",
    "'''\n",
    "\n",
    "def load_cuda(cuda_src, cpp_src, funcs, opt=True, verbose=False, name=None):\n",
    "    \"Simple wrapper for torch.utils.cpp_extension.load_inline\"\n",
    "    if name is None: name = funcs[0]\n",
    "    flags = \"-O3 -Xptxas -O3 -Xcompiler -O3\" if opt else \"-O0 -Xptxas -O0 -Xcompiler -O0\"\n",
    "    return load_inline(cuda_sources=[cuda_src], cpp_sources=[cpp_src], functions=funcs,\n",
    "                       extra_cuda_cflags=[flags], verbose=verbose, name=name)\n",
    "\n",
    "def cdiv(a,b):\n",
    "    \"Int ceiling division of `a` over `b`\"\n",
    "    return (a+b-1)//b\n",
    "\n",
    "torch.manual_seed(42)"
   ]
  },
  {
   "cell_type": "code",
   "execution_count": 54,
   "id": "3fa3f5d9-3006-4eef-9842-a3e1debee65d",
   "metadata": {},
   "outputs": [],
   "source": [
    "cuda_src = cuda_begin + r'''\n",
    "__global__ void reduce_kernel(float* m, float* output) {\n",
    "    unsigned int i = threadIdx.x;\n",
    "    for(unsigned int stride=blockDim.x; stride >= 1; stride /= 2) {\n",
    "        if (threadIdx.x < stride) {\n",
    "            m[i] = max( m[i+stride], m[i]);\n",
    "        }\n",
    "        __syncthreads();\n",
    "    }\n",
    "    if(threadIdx.x == 0) *output = m[0];\n",
    "}\n",
    "\n",
    "torch::Tensor reduce(torch::Tensor m) {\n",
    "    CHECK_INPUT(m);\n",
    "    auto output = torch::zeros({1}, m.options());\n",
    "\n",
    "    reduce_kernel<<<1, 32>>>( m.data_ptr<float>(), output.data_ptr<float>());\n",
    "\n",
    "    C10_CUDA_KERNEL_LAUNCH_CHECK();\n",
    "    return output;\n",
    "}\n",
    "'''\n",
    "\n",
    "cpp_src = \"torch::Tensor reduce(torch::Tensor m);\""
   ]
  },
  {
   "cell_type": "code",
   "execution_count": null,
   "id": "d2123e55-d0af-46ca-95c5-3c20a2567c7f",
   "metadata": {},
   "outputs": [],
   "source": [
    "module = load_cuda(cuda_src, cpp_src, [\"reduce\"])"
   ]
  },
  {
   "cell_type": "code",
   "execution_count": 48,
   "id": "287d3d25-0a98-4290-98fa-bacb7790f653",
   "metadata": {},
   "outputs": [],
   "source": [
    "x = torch.randn(32).contiguous().cuda()"
   ]
  },
  {
   "cell_type": "code",
   "execution_count": 51,
   "id": "63f6ebe2-23b2-4ddd-b13c-9d97d4fa1465",
   "metadata": {},
   "outputs": [
    {
     "data": {
      "text/plain": [
       "tensor(19.9609, device='cuda:0')"
      ]
     },
     "execution_count": 51,
     "metadata": {},
     "output_type": "execute_result"
    }
   ],
   "source": [
    "x.max()"
   ]
  },
  {
   "cell_type": "code",
   "execution_count": 52,
   "id": "ac3b0298-3eb7-4f6a-9b49-c776debbf3af",
   "metadata": {},
   "outputs": [
    {
     "data": {
      "text/plain": [
       "tensor([ 4.8478,  3.4485,  0.8379,  0.8315, -0.5264,  1.3672,  2.6720,  1.1847,\n",
       "         0.1281,  3.1925, -2.3016,  0.5760,  0.4946,  0.5684,  2.3415,  2.1495,\n",
       "        -0.8146, -1.0212, -0.4949, -0.5923,  0.1543,  0.4408, -0.1483, -2.3184,\n",
       "        -0.3980,  1.0805, -1.7809,  1.5080,  0.3094, -0.5003,  1.0350,  1.6896],\n",
       "       device='cuda:0')"
      ]
     },
     "execution_count": 52,
     "metadata": {},
     "output_type": "execute_result"
    }
   ],
   "source": [
    "x"
   ]
  },
  {
   "cell_type": "code",
   "execution_count": 53,
   "id": "a3b62958-403e-48b8-b522-fd13680a8221",
   "metadata": {},
   "outputs": [
    {
     "data": {
      "text/plain": [
       "tensor([19.9609], device='cuda:0')"
      ]
     },
     "execution_count": 53,
     "metadata": {},
     "output_type": "execute_result"
    }
   ],
   "source": [
    "module.reduce(x)"
   ]
  },
  {
   "cell_type": "code",
   "execution_count": 39,
   "id": "9d5d036f-3592-41d2-8ed4-aa2f7d7c34de",
   "metadata": {},
   "outputs": [
    {
     "data": {
      "text/plain": [
       "tensor(-1.1068e+20, device='cuda:0')"
      ]
     },
     "execution_count": 39,
     "metadata": {},
     "output_type": "execute_result"
    }
   ],
   "source": [
    "x.sum()"
   ]
  },
  {
   "cell_type": "code",
   "execution_count": null,
   "id": "5552ac4b-9b67-48c3-8dad-bdacfb0c6973",
   "metadata": {},
   "outputs": [],
   "source": []
  }
 ],
 "metadata": {
  "kernelspec": {
   "display_name": "Python 3 (ipykernel)",
   "language": "python",
   "name": "python3"
  },
  "language_info": {
   "codemirror_mode": {
    "name": "ipython",
    "version": 3
   },
   "file_extension": ".py",
   "mimetype": "text/x-python",
   "name": "python",
   "nbconvert_exporter": "python",
   "pygments_lexer": "ipython3",
   "version": "3.10.0"
  }
 },
 "nbformat": 4,
 "nbformat_minor": 5
}
