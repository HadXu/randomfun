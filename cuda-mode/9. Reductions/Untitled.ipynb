{
 "cells": [
  {
   "cell_type": "code",
   "execution_count": 2,
   "id": "385bd3fc-5817-4741-9ade-3d252443644c",
   "metadata": {},
   "outputs": [
    {
     "data": {
      "text/plain": [
       "<torch._C.Generator at 0x7f17e47b8ad0>"
      ]
     },
     "execution_count": 2,
     "metadata": {},
     "output_type": "execute_result"
    }
   ],
   "source": [
    "from torch.utils.cpp_extension import load_inline\n",
    "import torch\n",
    "\n",
    "cuda_begin = r'''\n",
    "#include <torch/extension.h>\n",
    "#include <stdio.h>\n",
    "#include <c10/cuda/CUDAException.h>\n",
    "\n",
    "#define CHECK_CUDA(x) TORCH_CHECK(x.device().is_cuda(), #x \" must be a CUDA tensor\")\n",
    "#define CHECK_CONTIGUOUS(x) TORCH_CHECK(x.is_contiguous(), #x \" must be contiguous\")\n",
    "#define CHECK_INPUT(x) CHECK_CUDA(x); CHECK_CONTIGUOUS(x)\n",
    "#define CUDA_ERR(ans) { gpuAssert((ans), __FILE__, __LINE__); }\n",
    "inline void gpuAssert(cudaError_t code, const char *file, int line, bool abort=true)\n",
    "{\n",
    "   if (code != cudaSuccess) \n",
    "   {\n",
    "      fprintf(stderr,\"GPUassert: %s %s %d\\n\", cudaGetErrorString(code), file, line);\n",
    "      if (abort) exit(code);\n",
    "   }\n",
    "}\n",
    "__host__ __device__ inline unsigned int cdiv(unsigned int a, unsigned int b) { return (a+b-1)/b;}\n",
    "'''\n",
    "\n",
    "def load_cuda(cuda_src, cpp_src, funcs, opt=True, verbose=False, name=None):\n",
    "    \"Simple wrapper for torch.utils.cpp_extension.load_inline\"\n",
    "    if name is None: name = funcs[0]\n",
    "    flags = \"-O3 -Xptxas -O3 -Xcompiler -O3\" if opt else \"-O0 -Xptxas -O0 -Xcompiler -O0\"\n",
    "    return load_inline(cuda_sources=[cuda_src], cpp_sources=[cpp_src], functions=funcs,\n",
    "                       extra_cuda_cflags=[flags], verbose=verbose, name=name)\n",
    "\n",
    "def cdiv(a,b):\n",
    "    \"Int ceiling division of `a` over `b`\"\n",
    "    return (a+b-1)//b\n",
    "\n",
    "torch.manual_seed(42)"
   ]
  },
  {
   "cell_type": "code",
   "execution_count": 54,
   "id": "3fa3f5d9-3006-4eef-9842-a3e1debee65d",
   "metadata": {},
   "outputs": [],
   "source": [
    "cuda_src = cuda_begin + r'''\n",
    "__global__ void reduce_kernel(float* m, float* output) {\n",
    "    unsigned int i = threadIdx.x;\n",
    "    for(unsigned int stride=blockDim.x; stride >= 1; stride /= 2) {\n",
    "        if (threadIdx.x < stride) {\n",
    "            m[i] = max( m[i+stride], m[i]);\n",
    "        }\n",
    "        __syncthreads();\n",
    "    }\n",
    "    if(threadIdx.x == 0) *output = m[0];\n",
    "}\n",
    "\n",
    "torch::Tensor reduce(torch::Tensor m) {\n",
    "    CHECK_INPUT(m);\n",
    "    auto output = torch::zeros({1}, m.options());\n",
    "\n",
    "    reduce_kernel<<<1, 32>>>( m.data_ptr<float>(), output.data_ptr<float>());\n",
    "\n",
    "    C10_CUDA_KERNEL_LAUNCH_CHECK();\n",
    "    return output;\n",
    "}\n",
    "'''\n",
    "\n",
    "cpp_src = \"torch::Tensor reduce(torch::Tensor m);\""
   ]
  },
  {
   "cell_type": "code",
   "execution_count": 55,
   "id": "d2123e55-d0af-46ca-95c5-3c20a2567c7f",
   "metadata": {},
   "outputs": [],
   "source": [
    "module = load_cuda(cuda_src, cpp_src, [\"reduce\"])"
   ]
  },
  {
   "cell_type": "code",
   "execution_count": 56,
   "id": "287d3d25-0a98-4290-98fa-bacb7790f653",
   "metadata": {},
   "outputs": [],
   "source": [
    "x = torch.randn(32).contiguous().cuda()"
   ]
  },
  {
   "cell_type": "code",
   "execution_count": 63,
   "id": "63f6ebe2-23b2-4ddd-b13c-9d97d4fa1465",
   "metadata": {},
   "outputs": [
    {
     "data": {
      "text/plain": [
       "tensor(1.9892, device='cuda:0')"
      ]
     },
     "execution_count": 63,
     "metadata": {},
     "output_type": "execute_result"
    }
   ],
   "source": [
    "x.max()"
   ]
  },
  {
   "cell_type": "code",
   "execution_count": 72,
   "id": "ac3b0298-3eb7-4f6a-9b49-c776debbf3af",
   "metadata": {},
   "outputs": [
    {
     "data": {
      "text/plain": [
       "tensor([1.9892, 1.9892, 0.8539, 1.9892, 0.5397, 0.5655, 0.5058, 1.9892, 1.2554,\n",
       "        0.0000, 0.8539, 0.5130, 0.5397, 0.5655, 0.5058, 0.4097, 0.0000, 0.2762,\n",
       "        0.0000, 0.4626, 0.0000, 0.0000, 0.0000, 1.4639, 1.2554, 0.0000, 0.8539,\n",
       "        0.5130, 0.5397, 0.5655, 0.5058, 0.2225], device='cuda:0')"
      ]
     },
     "execution_count": 72,
     "metadata": {},
     "output_type": "execute_result"
    }
   ],
   "source": [
    "x"
   ]
  },
  {
   "cell_type": "code",
   "execution_count": 68,
   "id": "a3b62958-403e-48b8-b522-fd13680a8221",
   "metadata": {},
   "outputs": [
    {
     "data": {
      "text/plain": [
       "tensor([1.9892], device='cuda:0')"
      ]
     },
     "execution_count": 68,
     "metadata": {},
     "output_type": "execute_result"
    }
   ],
   "source": [
    "module.reduce(x)"
   ]
  },
  {
   "cell_type": "code",
   "execution_count": 60,
   "id": "9d5d036f-3592-41d2-8ed4-aa2f7d7c34de",
   "metadata": {},
   "outputs": [
    {
     "data": {
      "text/plain": [
       "tensor(21.7233, device='cuda:0')"
      ]
     },
     "execution_count": 60,
     "metadata": {},
     "output_type": "execute_result"
    }
   ],
   "source": [
    "x.sum()"
   ]
  },
  {
   "cell_type": "code",
   "execution_count": null,
   "id": "5552ac4b-9b67-48c3-8dad-bdacfb0c6973",
   "metadata": {},
   "outputs": [],
   "source": []
  }
 ],
 "metadata": {
  "kernelspec": {
   "display_name": "Python 3 (ipykernel)",
   "language": "python",
   "name": "python3"
  },
  "language_info": {
   "codemirror_mode": {
    "name": "ipython",
    "version": 3
   },
   "file_extension": ".py",
   "mimetype": "text/x-python",
   "name": "python",
   "nbconvert_exporter": "python",
   "pygments_lexer": "ipython3",
   "version": "3.10.0"
  }
 },
 "nbformat": 4,
 "nbformat_minor": 5
}
